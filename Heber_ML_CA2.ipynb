{
 "cells": [
  {
   "cell_type": "markdown",
   "id": "9390ffca-192f-413c-b135-064d8a7bb6a8",
   "metadata": {},
   "source": [
    "# CCT College Dublin \n",
    "\n",
    "## Module Title: \n",
    "Machine Learning for AI\n",
    "## Assessment Title\n",
    "ML_CA2\n",
    "## Lecturer Name:\n",
    "David McQuaid\n",
    "## Student Full Name/ID:\n",
    "Heber Junio Dos Anjos Mota – 2020317\n",
    "## Assessment Due Date:\n",
    "31th May 2024\n",
    "\n",
    "\n",
    "### Declaration \t\t\t\n",
    "By submitting this assessment, I confirm that I have read the CCT policy on Academic Misconduct and understand the implications of submitting work that is not my own or does not appropriately reference material taken from a third party or other source. I declare it to be my own work and that all material from third parties has been appropriately referenced. I further confirm that this work has not previously been submitted for assessment by myself or someone else in CCT College Dublin or any other higher education institution.\n",
    "\n",
    "### Github Link\n",
    "https://github.com/heberjuunior/Heber_ML_CA2"
   ]
  },
  {
   "cell_type": "code",
   "execution_count": 1,
   "id": "271f2c20-ebe4-4f4d-9853-742081bcf8e7",
   "metadata": {},
   "outputs": [],
   "source": [
    "# Importing Libraries\n",
    "import  pandas as pd \n",
    "import seaborn as sns\n",
    "import numpy as np\n",
    "import matplotlib.pyplot as plt"
   ]
  },
  {
   "cell_type": "markdown",
   "id": "1a615c38-9bcf-44c5-8e11-1d3e18d66eca",
   "metadata": {},
   "source": [
    "# Neural Networks\n",
    "## Data Understanding\r",
    "In the initial phase of this project, we will begin by understanding the provided dataset. This involves gaining insights into the structure and features of the data.\r\n",
    "\r\n",
    "### Data Reading\r\n",
    "We start by loading the dataset. Using the \"pd.read_csv\" function, we read the \"BankRecords.csv\" file into a dataframe. Following this, we use the \"display()\" function to get a preview of the dataset.set."
   ]
  },
  {
   "cell_type": "markdown",
   "id": "580884c5-161f-4c85-b00e-8e863726dbd6",
   "metadata": {},
   "source": [
    "\n",
    "bank_df = pd.read_csv(\"BankRecords.csv\")\r\n",
    "display(bank_df)"
   ]
  },
  {
   "cell_type": "code",
   "execution_count": null,
   "id": "ed2d03b6-001f-4900-beeb-4a0027572249",
   "metadata": {},
   "outputs": [],
   "source": []
  },
  {
   "cell_type": "code",
   "execution_count": null,
   "id": "a3d13c87-2bc8-4aac-ac9a-ee64c778c582",
   "metadata": {},
   "outputs": [],
   "source": []
  },
  {
   "cell_type": "code",
   "execution_count": null,
   "id": "77bfcaae-faad-484a-82b6-5c2020c5d854",
   "metadata": {},
   "outputs": [],
   "source": []
  },
  {
   "cell_type": "code",
   "execution_count": null,
   "id": "266768be-8e8c-41c1-82c9-058bcbd6ff54",
   "metadata": {},
   "outputs": [],
   "source": []
  }
 ],
 "metadata": {
  "kernelspec": {
   "display_name": "Python 3 (ipykernel)",
   "language": "python",
   "name": "python3"
  },
  "language_info": {
   "codemirror_mode": {
    "name": "ipython",
    "version": 3
   },
   "file_extension": ".py",
   "mimetype": "text/x-python",
   "name": "python",
   "nbconvert_exporter": "python",
   "pygments_lexer": "ipython3",
   "version": "3.11.7"
  }
 },
 "nbformat": 4,
 "nbformat_minor": 5
}
